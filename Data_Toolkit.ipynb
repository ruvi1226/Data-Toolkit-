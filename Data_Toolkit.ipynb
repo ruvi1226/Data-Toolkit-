{
  "nbformat": 4,
  "nbformat_minor": 0,
  "metadata": {
    "colab": {
      "provenance": []
    },
    "kernelspec": {
      "name": "python3",
      "display_name": "Python 3"
    },
    "language_info": {
      "name": "python"
    }
  },
  "cells": [
    {
      "cell_type": "markdown",
      "source": [
        "# Data Toolkit Assignment"
      ],
      "metadata": {
        "id": "ba99HlHgfJxy"
      }
    },
    {
      "cell_type": "markdown",
      "source": [
        "#Theory Questions"
      ],
      "metadata": {
        "id": "8qZUITwhfNny"
      }
    },
    {
      "cell_type": "markdown",
      "source": [
        "1. What is NumPy, and why is it widely used in Python ?\n",
        "- NumPy (Numerical Python) is a powerful open-source library in Python used for numerical computing.\n",
        "-It provides support for large, multi-dimensional arrays and matrices, along with a large collection of high-performance mathematical functions to operate on them.\n",
        "- NumPy is Widely Used in Python:\n",
        "1. Efficient Array Operations\n",
        "    - NumPy arrays (ndarray) are faster and more memory-efficient than Python lists.\n",
        "    - They allow vectorized operations (performing operations on entire arrays without explicit loops).\n",
        "2. Mathematical Functions\n",
        "    - Provides built-in functions for linear algebra, Fourier transforms, statistics, random number generation, etc.\n",
        "3. Interoperability\n",
        "    - Works well with libraries like Pandas, Scikit-learn, TensorFlow, PyTorch, OpenCV, and many more.\n",
        "4. Broadcasting\n",
        "    - Allows arithmetic operations between arrays of different shapes without explicitly reshaping them.\n",
        "5. Convenience\n",
        "    - Easier to implement mathematical and data analysis tasks compared to using raw Python.\n",
        "6. Performance\n",
        "    - Written in C and optimized, so it runs much faster than pure Python for numerical tasks."
      ],
      "metadata": {
        "id": "WxUByD_BhGfw"
      }
    },
    {
      "cell_type": "markdown",
      "source": [
        "2. How does broadcasting work in NumPy ?\n",
        "- Broadcasting is the way NumPy allows operations between arrays of different shapes, by automatically expanding (without copying data) the smaller array to match the shape of the larger one.\n",
        "- This avoids writing loops and makes computations faster and cleaner.\n",
        "- Broadcasting Rules : When operating on two arrays, NumPy compares their shapes element-wise from the last dimension backwards:\n",
        "1. If the dimensions are equal, they are compatible.\n",
        "2. If one of them is 1, it can be stretched (broadcast) to match the other.\n",
        "3. If they don’t match and none is 1 →  broadcasting fails (error).\n",
        "- In short: Broadcasting saves time, memory, and code by letting NumPy \"stretch\" smaller arrays to perform element-wise operations with larger ones."
      ],
      "metadata": {
        "id": "VdYfVnqHhSyK"
      }
    },
    {
      "cell_type": "markdown",
      "source": [
        "3. What is a Pandas DataFrame?\n",
        "- A Pandas DataFrame is a two-dimensional, size-mutable, tabular data structure in Python provided by the Pandas library.\n",
        "- Think of it like an Excel spreadsheet or a SQL table — it has rows and columns, where each column can store different types of data (integers, floats, strings, etc.).\n",
        "- Key Features of a DataFrame:\n",
        "1. Two-dimensional: Data is organized in rows and columns.\n",
        "2. Labeled axes: Both rows (index) and columns have labels.\n",
        "3. Heterogeneous data: Each column can hold different types of data.\n",
        "4. Mutable: You can insert, delete, or update rows and columns.\n",
        "5. Powerful operations: Built-in methods for filtering, grouping, merging, reshaping, and handling missing data."
      ],
      "metadata": {
        "id": "bDSr5DIuhpyz"
      }
    },
    {
      "cell_type": "markdown",
      "source": [
        "4. Explain the use of the groupby() method in Pandas?\n",
        "- Pandas groupby() Method\n",
        "- The groupby() method in Pandas is used to split data into groups based on one or more columns, then perform operations such as aggregation, transformation, or filtering on those groups.\n",
        "1. It follows the “Split–Apply–Combine” strategy:\n",
        "2. Split – Divide the data into groups based on column values.\n",
        "3. Apply – Perform some operation (like sum, mean, count, etc.) on each group.\n",
        "4. Combine – Merge the results back into a DataFrame or Series.\n",
        "\n",
        "- Common Operations with groupby()\n",
        "1. mean() → Average\n",
        "2. sum() → Total\n",
        "3. count() → Number of records\n",
        "4. min(), max() → Smallest/Largest\n",
        "5. agg() → Apply multiple aggregations at once"
      ],
      "metadata": {
        "id": "0uKKMBMghvfr"
      }
    },
    {
      "cell_type": "markdown",
      "source": [
        "5. Why is Seaborn preferred for statistical visualizations?\n",
        "- Seaborn is a Python data visualization library built on top of Matplotlib. It is widely preferred for statistical visualizations because it is specifically designed to make complex statistical plots simpler, more attractive, and more informative.\n",
        "- Key Reasons Seaborn is Preferred:\n",
        "1. High-level interface\n",
        "    - Provides easy-to-use functions for creating complex statistical plots with minimal code.\n",
        "    - Example: sns.barplot(), sns.boxplot(), sns.violinplot(), sns.heatmap()\n",
        "2. Built-in support for statistical analysis\n",
        "    - Can automatically compute and display statistical estimates (like mean, confidence intervals, regression lines).\n",
        "    - Example: sns.regplot() automatically fits and plots regression lines.\n",
        "3. Beautiful and informative default styles\n",
        "    - Seaborn improves the aesthetics of plots (colors, themes, layouts) compared to raw Matplotlib.\n",
        "    - Plots are cleaner and publication-ready.\n",
        "4. Works seamlessly with Pandas\n",
        "    - Accepts Pandas DataFrame and column names directly, avoiding manual data extraction.\n",
        "    - Example: sns.boxplot(x=\"Department\", y=\"Salary\", data=df)\n",
        "5. Specialized statistical plots\n",
        "    - Includes plots not easily available in Matplotlib, such as:\n",
        "        - Violin plots\n",
        "        - Pair plots\n",
        "        - Heatmaps\n",
        "        - Swarm plots\n",
        "        - Categorical plots\n",
        "6. Automatic handling of complex datasets\n",
        "  - Easily handles grouped data, categorical data, and large datasets.\n",
        "  - Example: One line of code can give aggregated statistics with error bars."
      ],
      "metadata": {
        "id": "TMEEf0lLh1DG"
      }
    },
    {
      "cell_type": "markdown",
      "source": [
        "6.  What are the differences between NumPy arrays and Python lists?\n",
        "- Although NumPy arrays and Python lists may look similar (both hold collections of items), they are quite different in terms of performance, flexibility, and functionality.\n",
        "- Differences Between NumPy Arrays and Python Lists\n",
        "    - Python Lists :\n",
        "    1. Data Type : Can store heterogeneous data (e.g., [1, \"hello\", 3.5]).\n",
        "    2. Performance : Slower (elements are objects, extra overhead).\n",
        "    3. Memory Usage : Higher (each element is a full Python object).\n",
        "    4. Operations : No direct vectorized operations (need loops).\n",
        "    5. Functionality : General-purpose container (flexible, can nest lists).\n",
        "    6. Dimensionality : Mostly 1D, but can be nested for 2D+ (not efficient).\n",
        "    7. Libraries Support : Not optimized for scientific computing.\n",
        "    - NumPy Arrays :\n",
        "    1. Data Type : Stores homogeneous data (all elements must be of the same type, e.g., all integers or floats).\n",
        "    2. Performance : Much faster (stored in contiguous memory and implemented in C).\n",
        "    3. Memory Usage : Lower (stores raw data more compactly).\n",
        "    4. Operations : Supports vectorized operations (element-wise addition, multiplication, etc.).\n",
        "    5. Functionality : Designed for numerical & matrix operations (linear algebra, broadcasting, etc.).\n",
        "    6. Dimensionality : Efficiently supports multi-dimensional arrays (ndarray).\n",
        "    7. Libraries Support : Widely used in scientific libraries (Pandas, SciPy, scikit-learn, TensorFlow, etc.).\n",
        "\n"
      ],
      "metadata": {
        "id": "CUqK4EXCjNKG"
      }
    },
    {
      "cell_type": "markdown",
      "source": [
        "7. What is a heatmap, and when should it be used?\n",
        "- A heatmap is a type of data visualization that represents values in a matrix or table-like format, where individual values are represented using color gradients instead of numbers.\n",
        "  - The color intensity (lighter to darker or cool to warm colors) indicates the magnitude of the values.\n",
        "  - Heatmaps make it easier to spot patterns, correlations, and outliers in large datasets.\n",
        "- When to use a heatmap:\n",
        "1. Correlation Analysis\n",
        "  - To visualize the correlation matrix between multiple variables (e.g., seeing how features in a dataset are related).\n",
        "2. Pattern Recognition\n",
        "  - When you want to quickly identify high and low values in a dataset.\n",
        "  - Example: Website analytics heatmaps show where users click most often.\n",
        "3. Time-Series or Spatial Data\n",
        "  - For data spread across time and categories (e.g., sales by day and hour).\n",
        "4. Comparing Across Dimensions\n",
        "  - When dealing with large data tables where numbers alone would be overwhelming."
      ],
      "metadata": {
        "id": "4BUQ16nkt1sk"
      }
    },
    {
      "cell_type": "markdown",
      "source": [
        "8. What does the term “vectorized operation” mean in NumPy?\n",
        "- In NumPy, a vectorized operation means performing an operation on entire arrays (or large chunks of data) at once, instead of looping through elements one by one.\n",
        "- In simpler terms:\n",
        "Instead of writing a Python for-loop to add, multiply, or apply a function to each element, NumPy uses highly optimized C-based implementations that work on whole arrays simultaneously.\n",
        "This makes computations much faster and more concise."
      ],
      "metadata": {
        "id": "-QPyvk24t7p2"
      }
    },
    {
      "cell_type": "markdown",
      "source": [
        "9. How does Matplotlib differ from Plotly?\n",
        "- Both Matplotlib and Plotly are popular Python libraries for data visualization, but they serve slightly different purposes.\n",
        "- Matplotlib\n",
        "  - Type: 2D plotting library (can do some 3D).\n",
        "  - Style: Static, publication-quality charts.\n",
        "  - Interactivity: Limited (zoom/pan possible with some backends, but mostly static).\n",
        "  - Customization: Extremely flexible—every tiny detail can be customized, but requires more code.\n",
        "  - Best for: Traditional, static visualizations (scientific papers, reports, academic work).\n",
        "  - Integration: Works closely with NumPy and Pandas.\n",
        "- Plotly\n",
        "  - Type: Interactive visualization library.\n",
        "  - Style: Produces interactive, modern-looking charts (hover tooltips, zoom, pan).\n",
        "  - Interactivity: High (great for dashboards and web apps).\n",
        "  - Customization: Easier to build complex visuals (e.g., maps, 3D plots, dashboards).\n",
        "  - Best for: Exploratory data analysis, dashboards, business intelligence.\n",
        "  - Integration: Works well with Dash (for building interactive web apps).  "
      ],
      "metadata": {
        "id": "PFeEkpRGuAlg"
      }
    },
    {
      "cell_type": "markdown",
      "source": [
        "10. What is the significance of hierarchical indexing in Pandas?\n",
        "- In Pandas, hierarchical indexing (also called a MultiIndex) means having multiple levels of index labels for rows or columns.\n",
        "It allows you to work with higher-dimensional data (like 2D, 3D, or more) in a compact tabular format without needing to reshape your DataFrame.\n",
        "- Significance of Hierarchical Indexing\n",
        "1. Represent Multi-Dimensional Data in 2D\n",
        "  - Lets you store and analyze data with multiple keys (e.g., Country → City or Year → Month).\n",
        "2. Complex Grouping and Aggregation\n",
        "  - Makes it easier to group data across multiple categories.\n",
        "3. Improved Data Organization\n",
        "  - Provides a clean structure for time series, panel data, or multi-level categories.\n",
        "4. Easier Data Selection\n",
        "  - You can access data at multiple levels using .loc[] or slicing."
      ],
      "metadata": {
        "id": "_iojuDujuJxi"
      }
    },
    {
      "cell_type": "markdown",
      "source": [
        "11. What is the role of Seaborn’s pairplot() function?\n",
        "- The seaborn.pairplot() function is used to create a grid of plots that shows pairwise relationships between all numeric variables in a dataset, along with univariate distributions (histogram/KDE) on the diagonal.\n",
        "- Role of pairplot()\n",
        "1. Exploratory Data Analysis (EDA)\n",
        "  - Quickly visualize relationships between multiple variables.\n",
        "  - Helps identify correlations, clusters, and outliers.\n",
        "2. Bivariate Analysis\n",
        "  - Each scatterplot shows how two variables relate to each other.\n",
        "3. Univariate Analysis\n",
        "  - The diagonal shows the distribution of each variable.\n",
        "4. Class Comparison\n",
        "  - If you pass a categorical variable with hue, it colors points by category, making it easy to compare groups."
      ],
      "metadata": {
        "id": "TIg7ExdnuPzt"
      }
    },
    {
      "cell_type": "markdown",
      "source": [
        "12. What is the purpose of the describe() function in Pandas?\n",
        "- In Pandas, the describe() function is used to generate summary statistics of a DataFrame or Series.\n",
        "It helps in quickly understanding the distribution, spread, and central tendency of your data during exploratory data analysis (EDA).\n",
        "- Purpose of describe()\n",
        "    - Quick Summary of Data – Provides statistical measures without writing multiple functions.\n",
        "    - Detect Outliers or Skewness – By comparing min, max, mean, and percentiles.\n",
        "    - Understand Data Distribution – Useful for numeric as well as categorical data.\n",
        "    - Data Validation – Helps check if values fall in expected ranges."
      ],
      "metadata": {
        "id": "p5fBSdXUuUZd"
      }
    },
    {
      "cell_type": "markdown",
      "source": [
        "13. Why is handling missing data important in Pandas?\n",
        "- Handling missing data is one of the most important steps in data cleaning and preprocessing, especially when working with Pandas.\n",
        "  - Ensures Accuracy of Analysis : Missing values can lead to biased or incorrect results if not handled.\n",
        "Example: Taking the mean of a column with missing values may give a misleading result.\n",
        "  - Prevents Errors in Computation : Many machine learning algorithms and statistical methods cannot handle NaN values.If not fixed, they will throw errors during training or analysis.\n",
        "  - Improves Model Performance : ML models trained on datasets with missing values may become unreliable or show poor predictions.\n",
        "  - Maintains Data Integrity : Unchecked missing data can cause issues like misinterpretation, skewed distributions, and invalid correlations.\n",
        "  - Different Strategies for Different Needs : Sometimes dropping missing values is fine (if they’re few).Sometimes imputing (filling) them is better (mean, median, mode, forward/backward fill)."
      ],
      "metadata": {
        "id": "W7__ZroYuYPV"
      }
    },
    {
      "cell_type": "markdown",
      "source": [
        "14. What are the benefits of using Plotly for data visualization?\n",
        "- Plotly is one of the most popular Python libraries for interactive data visualization. Unlike traditional libraries such as Matplotlib or Seaborn (which are mostly static), Plotly focuses on modern, interactive, and web-ready charts.\n",
        "- Plotly is best when you need interactive, visually appealing, and shareable visualizations, especially for dashboards, presentations, and exploratory data analysis."
      ],
      "metadata": {
        "id": "BC5VJkKpuecK"
      }
    },
    {
      "cell_type": "markdown",
      "source": [
        "15. How does NumPy handle multidimensional arrays?\n",
        "- At the heart of NumPy is the ndarray (n-dimensional array) object, which is designed to efficiently handle multidimensional arrays of data.\n",
        "- NumPy Handles Multidimensional Arrays :\n",
        "1.  Generalized n-D arrays\n",
        "    - NumPy arrays aren’t limited to 1D (like Python lists) or 2D (like matrices).\n",
        "    - They can have any number of dimensions (1D, 2D, 3D, … nD).\n",
        "    - Example:\n",
        "          1D → Vector → [1, 2, 3]\n",
        "          2D → Matrix → [[1, 2], [3, 4]]\n",
        "          3D → Tensor → [[[1,2],[3,4]], [[5,6],[7,8]]]\n",
        "2. Shape Attribute (.shape) : Defines the dimensions of the array as a tuple.     Example: (rows, cols) for 2D, (depth, rows, cols) for 3D.\n",
        "- NumPy handles multidimensional arrays using its ndarray structure, which:\n",
        "    - Supports n-dimensional data (1D, 2D, 3D, …).\n",
        "    - Stores data efficiently in contiguous memory.\n",
        "    - Allows fast indexing, slicing, broadcasting, and vectorized operations across multiple axes.\n",
        "3. Higher-Dimensional Operations : Functions like reshape(), transpose(), ndim, and axis parameters let you manipulate and compute across dimensions.\n",
        "4. Broadcasting Across Dimensions : Operations can be applied across different shapes (if compatible).\n",
        "5. Indexing & Slicing : NumPy allows multi-axis indexing.\n",
        "6. Efficient Storage : Stored in contiguous memory blocks → fast access & vectorized operations. Unlike Python lists, multidimensional arrays don't store objects but raw values (C-level)."
      ],
      "metadata": {
        "id": "L04zGW1SulPn"
      }
    },
    {
      "cell_type": "markdown",
      "source": [
        "16. What is the role of Bokeh in data visualization?\n",
        "- Bokeh is a powerful Python library for interactive data visualization, especially useful for building modern, web-ready plots and dashboards directly from Python.\n",
        "- Role of Bokeh in Data Visualization Bokeh is designed to:\n",
        "  - Create interactive plots (zoom, pan, hover tooltips, etc.)\n",
        "  - Generate browser-based visualizations using JavaScript (but all written in Python).\n",
        "  - Build dashboards and web apps without writing custom JavaScript.\n",
        "  - Handle large or streaming datasets efficiently.\n",
        "  - Output to HTML, notebooks, or web servers (via Bokeh server)."
      ],
      "metadata": {
        "id": "umtvlZCwulE7"
      }
    },
    {
      "cell_type": "markdown",
      "source": [
        "17.  Explain the difference between apply() and map() in Pandas?\n",
        "- Both apply() and map() are used to apply functions to elements in a DataFrame/Series, but they differ in scope and flexibility.\n",
        "- map() : Works only on Pandas Series (1D).\n",
        "Applies a function element-wise to each value.\n",
        "Can take:\n",
        "  - A function\n",
        "  - A dictionary (map values to new values)\n",
        "  - A Series\n",
        "- apply() : Works on both Series and DataFrames.\n",
        "    - More flexible than map().\n",
        "    - On a Series: behaves similar to map(), applying a function element-wise.\n",
        "    - On a DataFrame: applies a function along a specific axis (axis=0 for columns, axis=1 for rows)."
      ],
      "metadata": {
        "id": "VaGMzaw0ukkL"
      }
    },
    {
      "cell_type": "markdown",
      "source": [
        "18. What are some advanced features of NumPy?\n",
        "-NumPy isn’t just about arrays and basic math — it has advanced features that make it powerful for scientific computing, machine learning, and data analysis.\n",
        "1. Broadcasting : Allows operations on arrays of different shapes without explicit loops.Saves memory and speeds up computations.\n",
        "2. Vectorization : Replaces explicit Python loops with optimized C-based operations. Much faster than iterating element by element.\n",
        "3. Advanced Indexing : Access elements using boolean masks, integer arrays, or conditions.\n",
        "4. Linear Algebra Operations : Built-in functions for matrix multiplication, eigenvalues, inverses, determinants, etc.\n",
        "Uses optimized libraries (BLAS, LAPACK).\n",
        "5. Random Number Generation : NumPy provides a powerful random module (np.random) for simulations, ML, etc. Supports uniform, normal, binomial, Poisson, etc.\n",
        "6. Fourier Transforms : Perform fast Fourier transforms for signal processing.\n",
        "7. Memory Mapping Large Files : Work with huge datasets without loading them fully into memory.\n",
        "8. Structured Arrays : Store and manipulate heterogeneous data (like a table with multiple datatypes).\n",
        "9. Parallelism & Multithreading : Many NumPy operations use vectorized C code, which internally takes advantage of multi-core CPUs for speed.\n",
        "10. Integration with Other Libraries : Works seamlessly with Pandas, SciPy, Scikit-learn, TensorFlow, PyTorch, etc.Provides the base for most machine learning & scientific computing frameworks."
      ],
      "metadata": {
        "id": "fPaChJ3mukUw"
      }
    },
    {
      "cell_type": "markdown",
      "source": [
        "19.  How does Pandas simplify time series analysis?\n",
        "  1. Datetime Handling : Pandas provides pd.to_datetime() to easily convert strings or numbers into datetime objects.\n",
        "It automatically understands various date formats.\n",
        "  2. Date/Time Indexing : You can set a DatetimeIndex on a DataFrame, which makes it easy to slice and query data by date ranges.\n",
        "  3. Resampling & Frequency Conversion : Pandas makes it easy to resample data (e.g., from daily to monthly or hourly).\n",
        "  Supports aggregation functions like mean, sum, count.\n",
        "  4. Shifting & Lagging : Easy to shift time series forward/backward for comparisons.\n",
        "  5. Rolling & Moving Window Calculations : Built-in support for moving averages, rolling sums, etc.\n",
        "  6. Time-based Grouping : Use groupby() with time-based frequencies ('M', 'Y', 'D').\n"
      ],
      "metadata": {
        "id": "AUtnnfzPukCP"
      }
    },
    {
      "cell_type": "markdown",
      "source": [
        "20. What is the role of a pivot table in Pandas?\n",
        "- A pivot table in Pandas is used to summarize, group, and analyze data in a tabular format — similar to pivot tables in Excel.\n",
        "- It allows you to:\n",
        "    - Rearrange data for better insights.\n",
        "    - Compute aggregations (like sum, mean, count, etc.) across different categories.\n",
        "    - Compare data across multiple dimensions (rows & columns).\n",
        "- In Pandas, we use pd.pivot_table() to create pivot tables.\n",
        "- The role of a pivot table in Pandas is to summarize, aggregate, and restructure data for better analysis and reporting."
      ],
      "metadata": {
        "id": "ZR1g65O3ujdQ"
      }
    },
    {
      "cell_type": "markdown",
      "source": [
        "21. Why is NumPy’s array slicing faster than Python’s list slicing?\n",
        "  1. Memory Storage :\n",
        "  - Python lists store elements as objects, each with metadata (type info, pointers).\n",
        "  - NumPy arrays store elements in contiguous blocks of memory (like C arrays), without extra metadata.\n",
        "  - This makes it much faster to access elements and perform slicing.\n",
        "  2. View vs Copy\n",
        "  - NumPy slicing usually creates a view of the original array (no data is copied).\n",
        "  - Only a \"window\" (pointer + offset) is created.\n",
        "  - Python list slicing always creates a new list (copies the data).\n",
        "  - That means NumPy slicing is more memory-efficient and faster.\n",
        "  3. Low-Level Optimizations\n",
        "  - NumPy is implemented in C (CPython extensions) and uses highly optimized libraries like BLAS and LAPACK for numerical operations.\n",
        "  - Python lists are managed by Python’s interpreter (slower due to dynamic typing and overhead).\n",
        "\n",
        "- NumPy slicing is faster than Python list slicing because:\n",
        "    - Arrays use contiguous memory (better cache performance).\n",
        "    - Slicing creates a view, not a copy.\n",
        "    - NumPy is backed by optimized C code.  \n"
      ],
      "metadata": {
        "id": "0oMvVA8pvFRC"
      }
    },
    {
      "cell_type": "markdown",
      "source": [
        "22. What are some common use cases for Seaborn?\n",
        "- Seaborn is a Python data visualization library built on top of Matplotlib, designed for making statistical graphics easier and more visually appealing.\n",
        "- Seaborn is mainly used for statistical visualizations such as distributions, relationships, categorical comparisons, heatmaps, regression plots, and time series analysis — all with minimal code and great default styles.\n",
        "- Here are some common use cases for Seaborn\n",
        "    1. Distribution Visualization :\n",
        "      - Understanding how data is distributed.\n",
        "      - Functions: sns.histplot(), sns.kdeplot(), sns.distplot() (deprecated).\n",
        "      -  Example: Plot a histogram of exam scores.\n",
        "\n",
        "    2. Relationship Visualization :\n",
        "      - To explore relationships between two variables.\n",
        "      - Functions: sns.scatterplot(), sns.lineplot(), sns.jointplot().\n",
        "      - Example: Relationship between study hours and test scores.\n",
        "\n",
        "    3. Categorical Data Visualization :\n",
        "      - Compare values across categories.\n",
        "      - Functions: sns.barplot(), sns.countplot(), sns.boxplot(), sns.violinplot(), sns.stripplot().\n",
        "      - Example: Comparing salaries of employees across departments.\n",
        "\n",
        "    4. Heatmaps\n",
        "      - Visualize correlation or frequency tables.\n",
        "      - Function: sns.heatmap().\n",
        "      - Example: Correlation matrix of dataset features.\n",
        "\n",
        "    5. Pairwise Relationships\n",
        "      - To visualize relationships between multiple variables at once.\n",
        "      - Function: sns.pairplot().\n",
        "      - Example: Analyzing all relationships in the Iris dataset.\n",
        "\n",
        "    6. Regression Analysis\n",
        "      - Fit regression models and visualize trend lines.\n",
        "      - Function: sns.regplot(), sns.lmplot().\n",
        "      - Example: Visualizing relationship between advertising spend and sales.\n",
        "    \n",
        "    7. Time Series Visualization\n",
        "      - Plotting trends over time.\n",
        "      - Function: sns.lineplot().\n",
        "      - Example: Stock prices over time."
      ],
      "metadata": {
        "id": "gqBlyEWYvEhG"
      }
    },
    {
      "cell_type": "markdown",
      "source": [
        "# Practical Questions"
      ],
      "metadata": {
        "id": "-Tg3ecaUvZZ0"
      }
    },
    {
      "cell_type": "code",
      "execution_count": null,
      "metadata": {
        "id": "QzmsrenIfGOw",
        "colab": {
          "base_uri": "https://localhost:8080/"
        },
        "outputId": "b9e76794-974c-4944-a4bc-ae024d32caa5"
      },
      "outputs": [
        {
          "output_type": "stream",
          "name": "stdout",
          "text": [
            "2D Array:\n",
            " [[1 2 3]\n",
            " [4 5 6]\n",
            " [7 8 9]]\n",
            "Sum of each row: [ 6 15 24]\n"
          ]
        }
      ],
      "source": [
        "#1.  How do you create a 2D NumPy array and calculate the sum of each row?\n",
        "import numpy as np\n",
        "\n",
        "# Create a 2D NumPy array\n",
        "arr = np.array([[1, 2, 3],\n",
        "                [4, 5, 6],\n",
        "                [7, 8, 9]])\n",
        "\n",
        "print(\"2D Array:\\n\", arr)\n",
        "\n",
        "# Calculate the sum of each row\n",
        "row_sum = arr.sum(axis=1)\n",
        "\n",
        "print(\"Sum of each row:\", row_sum)\n"
      ]
    },
    {
      "cell_type": "code",
      "source": [
        "#2. Write a Pandas script to find the mean of a specific column in a DataFrame?\n",
        "import pandas as pd\n",
        "\n",
        "# Create a sample DataFrame\n",
        "data = {\n",
        "    \"Name\": [\"Aradhya\", \"Rihan\", \"Karan\", \"Simran\"],\n",
        "    \"Age\": [25, 30, 22, 28],\n",
        "    \"Salary\": [50000, 60000, 75000, 85000]\n",
        "}\n",
        "\n",
        "df = pd.DataFrame(data)\n",
        "\n",
        "print(\"DataFrame:\\n\", df)\n",
        "\n",
        "# Find mean of a specific column (e.g., 'Salary')\n",
        "mean_salary = df[\"Salary\"].mean()\n",
        "\n",
        "print(\"Mean Salary:\", mean_salary)\n"
      ],
      "metadata": {
        "id": "Mckj1Yucv-xG",
        "colab": {
          "base_uri": "https://localhost:8080/"
        },
        "outputId": "b40b0390-d1f8-4e39-ae2f-c36f1d1392e1"
      },
      "execution_count": null,
      "outputs": [
        {
          "output_type": "stream",
          "name": "stdout",
          "text": [
            "DataFrame:\n",
            "       Name  Age  Salary\n",
            "0  Aradhya   25   50000\n",
            "1    Rihan   30   60000\n",
            "2    Karan   22   75000\n",
            "3   Simran   28   85000\n",
            "Mean Salary: 67500.0\n"
          ]
        }
      ]
    },
    {
      "cell_type": "code",
      "source": [
        "#3. Create a scatter plot using Matplotlib?\n",
        "import matplotlib.pyplot as plt\n",
        "\n",
        "x = [5, 7, 8, 7, 6, 9, 5, 6, 7, 8]\n",
        "y = [99, 86, 87, 88, 100, 86, 103, 87, 94, 78]\n",
        "\n",
        "# Create scatter plot\n",
        "plt.scatter(x, y, color=\"blue\", marker=\"o\", s=100, alpha=0.7)\n",
        "\n",
        "# Add labels and title\n",
        "plt.xlabel(\"X-axis\")\n",
        "plt.ylabel(\"Y-axis\")\n",
        "plt.title(\"Scatter Plot Example\")\n",
        "\n",
        "# Show plot\n",
        "plt.show()\n"
      ],
      "metadata": {
        "id": "MsG2bsG6wDhE",
        "colab": {
          "base_uri": "https://localhost:8080/",
          "height": 472
        },
        "outputId": "e11d1f0e-5c87-4737-ba77-c1c5de51000d"
      },
      "execution_count": null,
      "outputs": [
        {
          "output_type": "display_data",
          "data": {
            "text/plain": [
              "<Figure size 640x480 with 1 Axes>"
            ],
            "image/png": "[encoded data removed]"
          },
          "metadata": {}
        }
      ]
    },
    {
      "cell_type": "code",
      "source": [
        "#4. How do you calculate the correlation matrix using Seaborn and visualize it with a heatmap?\n",
        "import pandas as pd\n",
        "import seaborn as sns\n",
        "import matplotlib.pyplot as plt\n",
        "\n",
        "# Sample DataFrame\n",
        "data = {\n",
        "    \"Age\": [25, 30, 22, 28, 35],\n",
        "    \"Salary\": [50000, 60000, 55000, 65000, 70000],\n",
        "    \"Experience\": [2, 5, 1, 4, 7]\n",
        "}\n",
        "\n",
        "df = pd.DataFrame(data)\n",
        "print(\"DataFrame:\\n\", df)\n",
        "\n",
        "# Calculate correlation matrix\n",
        "corr_matrix = df.corr()\n",
        "\n",
        "print(\"\\nCorrelation Matrix:\\n\", corr_matrix)\n",
        "\n",
        "# Visualize with heatmap\n",
        "plt.figure(figsize=(6, 4))\n",
        "sns.heatmap(corr_matrix, annot=True, cmap=\"coolwarm\", linewidths=0.5)\n",
        "plt.title(\"Correlation Heatmap\")\n",
        "plt.show()\n"
      ],
      "metadata": {
        "id": "8yuhojaiwL6k",
        "colab": {
          "base_uri": "https://localhost:8080/",
          "height": 617
        },
        "outputId": "cd8ba827-bb2a-4403-932a-15e01b106809"
      },
      "execution_count": null,
      "outputs": [
        {
          "output_type": "stream",
          "name": "stdout",
          "text": [
            "DataFrame:\n",
            "    Age  Salary  Experience\n",
            "0   25   50000           2\n",
            "1   30   60000           5\n",
            "2   22   55000           1\n",
            "3   28   65000           4\n",
            "4   35   70000           7\n",
            "\n",
            "Correlation Matrix:\n",
            "                 Age    Salary  Experience\n",
            "Age         1.00000  0.830540    0.994300\n",
            "Salary      0.83054  1.000000    0.860946\n",
            "Experience  0.99430  0.860946    1.000000\n"
          ]
        },
        {
          "output_type": "display_data",
          "data": {
            "text/plain": [
              "<Figure size 600x400 with 2 Axes>"
            ],
            "image/png": "[encoded data removed]"
          },
          "metadata": {}
        }
      ]
    },
    {
      "cell_type": "code",
      "source": [
        "#5.  Generate a bar plot using Plotly?\n",
        "import plotly.express as px\n",
        "import pandas as pd\n",
        "\n",
        "# Sample Data\n",
        "data = {\n",
        "    \"Name\": [\"Amit\", \"Riya\", \"Karan\", \"Simran\"],\n",
        "    \"Salary\": [50000, 60000, 55000, 65000]\n",
        "}\n",
        "\n",
        "df = pd.DataFrame(data)\n",
        "\n",
        "# Create bar plot\n",
        "fig = px.bar(df, x=\"Name\", y=\"Salary\", title=\"Employee Salaries\",\n",
        "             color=\"Salary\", text=\"Salary\")\n",
        "\n",
        "# Show plot\n",
        "fig.show()\n"
      ],
      "metadata": {
        "id": "CwWCSTRfwW6d",
        "colab": {
          "base_uri": "https://localhost:8080/",
          "height": 542
        },
        "outputId": "494ba225-3a18-4320-8aaf-c98b334b3a21"
      },
      "execution_count": null,
      "outputs": [
        {
          "output_type": "display_data",
          "data": {
            "text/html": [
              "<html>\n",
              "<head><meta charset=\"utf-8\" /></head>\n",
              "<body>\n",
              "    <div>            <script src=\"https://cdnjs.cloudflare.com/ajax/libs/mathjax/2.7.5/MathJax.js?config=TeX-AMS-MML_SVG\"></script><script type=\"text/javascript\">if (window.MathJax && window.MathJax.Hub && window.MathJax.Hub.Config) {window.MathJax.Hub.Config({SVG: {font: \"STIX-Web\"}});}</script>                <script type=\"text/javascript\">window.PlotlyConfig = {MathJaxConfig: 'local'};</script>\n",
              "        <script charset=\"utf-8\" src=\"https://cdn.plot.ly/plotly-2.35.2.min.js\"></script>                <div id=\"06a888d3-a399-46c4-b0aa-433ff51b2e9e\" class=\"plotly-graph-div\" style=\"height:525px; width:100%;\"></div>            <script type=\"text/javascript\">                                    window.PLOTLYENV=window.PLOTLYENV || {};                                    if (document.getElementById(\"06a888d3-a399-46c4-b0aa-433ff51b2e9e\")) {                    Plotly.newPlot(                        \"06a888d3-a399-46c4-b0aa-433ff51b2e9e\",                        [{\"alignmentgroup\":\"True\",\"hovertemplate\":\"Name=%{x}\\u003cbr\\u003eSalary=%{marker.color}\\u003cextra\\u003e\\u003c\\u002fextra\\u003e\",\"legendgroup\":\"\",\"marker\":{\"color\":[50000,60000,55000,65000],\"coloraxis\":\"coloraxis\",\"pattern\":{\"shape\":\"\"}},\"name\":\"\",\"offsetgroup\":\"\",\"orientation\":\"v\",\"showlegend\":false,\"text\":[50000.0,60000.0,55000.0,65000.0],\"textposition\":\"auto\",\"x\":[\"Amit\",\"Riya\",\"Karan\",\"Simran\"],\"xaxis\":\"x\",\"y\":[50000,60000,55000,65000],\"yaxis\":\"y\",\"type\":\"bar\"}],                        {\"template\":{\"data\":{\"histogram2dcontour\":[{\"type\":\"histogram2dcontour\",\"colorbar\":{\"outlinewidth\":0,\"ticks\":\"\"},\"colorscale\":[[0.0,\"#0d0887\"],[0.1111111111111111,\"#46039f\"],[0.2222222222222222,\"#7201a8\"],[0.3333333333333333,\"#9c179e\"],[0.4444444444444444,\"#bd3786\"],[0.5555555555555556,\"#d8576b\"],[0.6666666666666666,\"#ed7953\"],[0.7777777777777778,\"#fb9f3a\"],[0.8888888888888888,\"#fdca26\"],[1.0,\"#f0f921\"]]}],\"choropleth\":[{\"type\":\"choropleth\",\"colorbar\":{\"outlinewidth\":0,\"ticks\":\"\"}}],\"histogram2d\":[{\"type\":\"histogram2d\",\"colorbar\":{\"outlinewidth\":0,\"ticks\":\"\"},\"colorscale\":[[0.0,\"#0d0887\"],[0.1111111111111111,\"#46039f\"],[0.2222222222222222,\"#7201a8\"],[0.3333333333333333,\"#9c179e\"],[0.4444444444444444,\"#bd3786\"],[0.5555555555555556,\"#d8576b\"],[0.6666666666666666,\"#ed7953\"],[0.7777777777777778,\"#fb9f3a\"],[0.8888888888888888,\"#fdca26\"],[1.0,\"#f0f921\"]]}],\"heatmap\":[{\"type\":\"heatmap\",\"colorbar\":{\"outlinewidth\":0,\"ticks\":\"\"},\"colorscale\":[[0.0,\"#0d0887\"],[0.1111111111111111,\"#46039f\"],[0.2222222222222222,\"#7201a8\"],[0.3333333333333333,\"#9c179e\"],[0.4444444444444444,\"#bd3786\"],[0.5555555555555556,\"#d8576b\"],[0.6666666666666666,\"#ed7953\"],[0.7777777777777778,\"#fb9f3a\"],[0.8888888888888888,\"#fdca26\"],[1.0,\"#f0f921\"]]}],\"heatmapgl\":[{\"type\":\"heatmapgl\",\"colorbar\":{\"outlinewidth\":0,\"ticks\":\"\"},\"colorscale\":[[0.0,\"#0d0887\"],[0.1111111111111111,\"#46039f\"],[0.2222222222222222,\"#7201a8\"],[0.3333333333333333,\"#9c179e\"],[0.4444444444444444,\"#bd3786\"],[0.5555555555555556,\"#d8576b\"],[0.6666666666666666,\"#ed7953\"],[0.7777777777777778,\"#fb9f3a\"],[0.8888888888888888,\"#fdca26\"],[1.0,\"#f0f921\"]]}],\"contourcarpet\":[{\"type\":\"contourcarpet\",\"colorbar\":{\"outlinewidth\":0,\"ticks\":\"\"}}],\"contour\":[{\"type\":\"contour\",\"colorbar\":{\"outlinewidth\":0,\"ticks\":\"\"},\"colorscale\":[[0.0,\"#0d0887\"],[0.1111111111111111,\"#46039f\"],[0.2222222222222222,\"#7201a8\"],[0.3333333333333333,\"#9c179e\"],[0.4444444444444444,\"#bd3786\"],[0.5555555555555556,\"#d8576b\"],[0.6666666666666666,\"#ed7953\"],[0.7777777777777778,\"#fb9f3a\"],[0.8888888888888888,\"#fdca26\"],[1.0,\"#f0f921\"]]}],\"surface\":[{\"type\":\"surface\",\"colorbar\":{\"outlinewidth\":0,\"ticks\":\"\"},\"colorscale\":[[0.0,\"#0d0887\"],[0.1111111111111111,\"#46039f\"],[0.2222222222222222,\"#7201a8\"],[0.3333333333333333,\"#9c179e\"],[0.4444444444444444,\"#bd3786\"],[0.5555555555555556,\"#d8576b\"],[0.6666666666666666,\"#ed7953\"],[0.7777777777777778,\"#fb9f3a\"],[0.8888888888888888,\"#fdca26\"],[1.0,\"#f0f921\"]]}],\"mesh3d\":[{\"type\":\"mesh3d\",\"colorbar\":{\"outlinewidth\":0,\"ticks\":\"\"}}],\"scatter\":[{\"fillpattern\":{\"fillmode\":\"overlay\",\"size\":10,\"solidity\":0.2},\"type\":\"scatter\"}],\"parcoords\":[{\"type\":\"parcoords\",\"line\":{\"colorbar\":{\"outlinewidth\":0,\"ticks\":\"\"}}}],\"scatterpolargl\":[{\"type\":\"scatterpolargl\",\"marker\":{\"colorbar\":{\"outlinewidth\":0,\"ticks\":\"\"}}}],\"bar\":[{\"error_x\":{\"color\":\"#2a3f5f\"},\"error_y\":{\"color\":\"#2a3f5f\"},\"marker\":{\"line\":{\"color\":\"#E5ECF6\",\"width\":0.5},\"pattern\":{\"fillmode\":\"overlay\",\"size\":10,\"solidity\":0.2}},\"type\":\"bar\"}],\"scattergeo\":[{\"type\":\"scattergeo\",\"marker\":{\"colorbar\":{\"outlinewidth\":0,\"ticks\":\"\"}}}],\"scatterpolar\":[{\"type\":\"scatterpolar\",\"marker\":{\"colorbar\":{\"outlinewidth\":0,\"ticks\":\"\"}}}],\"histogram\":[{\"marker\":{\"pattern\":{\"fillmode\":\"overlay\",\"size\":10,\"solidity\":0.2}},\"type\":\"histogram\"}],\"scattergl\":[{\"type\":\"scattergl\",\"marker\":{\"colorbar\":{\"outlinewidth\":0,\"ticks\":\"\"}}}],\"scatter3d\":[{\"type\":\"scatter3d\",\"line\":{\"colorbar\":{\"outlinewidth\":0,\"ticks\":\"\"}},\"marker\":{\"colorbar\":{\"outlinewidth\":0,\"ticks\":\"\"}}}],\"scattermapbox\":[{\"type\":\"scattermapbox\",\"marker\":{\"colorbar\":{\"outlinewidth\":0,\"ticks\":\"\"}}}],\"scatterternary\":[{\"type\":\"scatterternary\",\"marker\":{\"colorbar\":{\"outlinewidth\":0,\"ticks\":\"\"}}}],\"scattercarpet\":[{\"type\":\"scattercarpet\",\"marker\":{\"colorbar\":{\"outlinewidth\":0,\"ticks\":\"\"}}}],\"carpet\":[{\"aaxis\":{\"endlinecolor\":\"#2a3f5f\",\"gridcolor\":\"white\",\"linecolor\":\"white\",\"minorgridcolor\":\"white\",\"startlinecolor\":\"#2a3f5f\"},\"baxis\":{\"endlinecolor\":\"#2a3f5f\",\"gridcolor\":\"white\",\"linecolor\":\"white\",\"minorgridcolor\":\"white\",\"startlinecolor\":\"#2a3f5f\"},\"type\":\"carpet\"}],\"table\":[{\"cells\":{\"fill\":{\"color\":\"#EBF0F8\"},\"line\":{\"color\":\"white\"}},\"header\":{\"fill\":{\"color\":\"#C8D4E3\"},\"line\":{\"color\":\"white\"}},\"type\":\"table\"}],\"barpolar\":[{\"marker\":{\"line\":{\"color\":\"#E5ECF6\",\"width\":0.5},\"pattern\":{\"fillmode\":\"overlay\",\"size\":10,\"solidity\":0.2}},\"type\":\"barpolar\"}],\"pie\":[{\"automargin\":true,\"type\":\"pie\"}]},\"layout\":{\"autotypenumbers\":\"strict\",\"colorway\":[\"#636efa\",\"#EF553B\",\"#00cc96\",\"#ab63fa\",\"#FFA15A\",\"#19d3f3\",\"#FF6692\",\"#B6E880\",\"#FF97FF\",\"#FECB52\"],\"font\":{\"color\":\"#2a3f5f\"},\"hovermode\":\"closest\",\"hoverlabel\":{\"align\":\"left\"},\"paper_bgcolor\":\"white\",\"plot_bgcolor\":\"#E5ECF6\",\"polar\":{\"bgcolor\":\"#E5ECF6\",\"angularaxis\":{\"gridcolor\":\"white\",\"linecolor\":\"white\",\"ticks\":\"\"},\"radialaxis\":{\"gridcolor\":\"white\",\"linecolor\":\"white\",\"ticks\":\"\"}},\"ternary\":{\"bgcolor\":\"#E5ECF6\",\"aaxis\":{\"gridcolor\":\"white\",\"linecolor\":\"white\",\"ticks\":\"\"},\"baxis\":{\"gridcolor\":\"white\",\"linecolor\":\"white\",\"ticks\":\"\"},\"caxis\":{\"gridcolor\":\"white\",\"linecolor\":\"white\",\"ticks\":\"\"}},\"coloraxis\":{\"colorbar\":{\"outlinewidth\":0,\"ticks\":\"\"}},\"colorscale\":{\"sequential\":[[0.0,\"#0d0887\"],[0.1111111111111111,\"#46039f\"],[0.2222222222222222,\"#7201a8\"],[0.3333333333333333,\"#9c179e\"],[0.4444444444444444,\"#bd3786\"],[0.5555555555555556,\"#d8576b\"],[0.6666666666666666,\"#ed7953\"],[0.7777777777777778,\"#fb9f3a\"],[0.8888888888888888,\"#fdca26\"],[1.0,\"#f0f921\"]],\"sequentialminus\":[[0.0,\"#0d0887\"],[0.1111111111111111,\"#46039f\"],[0.2222222222222222,\"#7201a8\"],[0.3333333333333333,\"#9c179e\"],[0.4444444444444444,\"#bd3786\"],[0.5555555555555556,\"#d8576b\"],[0.6666666666666666,\"#ed7953\"],[0.7777777777777778,\"#fb9f3a\"],[0.8888888888888888,\"#fdca26\"],[1.0,\"#f0f921\"]],\"diverging\":[[0,\"#8e0152\"],[0.1,\"#c51b7d\"],[0.2,\"#de77ae\"],[0.3,\"#f1b6da\"],[0.4,\"#fde0ef\"],[0.5,\"#f7f7f7\"],[0.6,\"#e6f5d0\"],[0.7,\"#b8e186\"],[0.8,\"#7fbc41\"],[0.9,\"#4d9221\"],[1,\"#276419\"]]},\"xaxis\":{\"gridcolor\":\"white\",\"linecolor\":\"white\",\"ticks\":\"\",\"title\":{\"standoff\":15},\"zerolinecolor\":\"white\",\"automargin\":true,\"zerolinewidth\":2},\"yaxis\":{\"gridcolor\":\"white\",\"linecolor\":\"white\",\"ticks\":\"\",\"title\":{\"standoff\":15},\"zerolinecolor\":\"white\",\"automargin\":true,\"zerolinewidth\":2},\"scene\":{\"xaxis\":{\"backgroundcolor\":\"#E5ECF6\",\"gridcolor\":\"white\",\"linecolor\":\"white\",\"showbackground\":true,\"ticks\":\"\",\"zerolinecolor\":\"white\",\"gridwidth\":2},\"yaxis\":{\"backgroundcolor\":\"#E5ECF6\",\"gridcolor\":\"white\",\"linecolor\":\"white\",\"showbackground\":true,\"ticks\":\"\",\"zerolinecolor\":\"white\",\"gridwidth\":2},\"zaxis\":{\"backgroundcolor\":\"#E5ECF6\",\"gridcolor\":\"white\",\"linecolor\":\"white\",\"showbackground\":true,\"ticks\":\"\",\"zerolinecolor\":\"white\",\"gridwidth\":2}},\"shapedefaults\":{\"line\":{\"color\":\"#2a3f5f\"}},\"annotationdefaults\":{\"arrowcolor\":\"#2a3f5f\",\"arrowhead\":0,\"arrowwidth\":1},\"geo\":{\"bgcolor\":\"white\",\"landcolor\":\"#E5ECF6\",\"subunitcolor\":\"white\",\"showland\":true,\"showlakes\":true,\"lakecolor\":\"white\"},\"title\":{\"x\":0.05},\"mapbox\":{\"style\":\"light\"}}},\"xaxis\":{\"anchor\":\"y\",\"domain\":[0.0,1.0],\"title\":{\"text\":\"Name\"}},\"yaxis\":{\"anchor\":\"x\",\"domain\":[0.0,1.0],\"title\":{\"text\":\"Salary\"}},\"coloraxis\":{\"colorbar\":{\"title\":{\"text\":\"Salary\"}},\"colorscale\":[[0.0,\"#0d0887\"],[0.1111111111111111,\"#46039f\"],[0.2222222222222222,\"#7201a8\"],[0.3333333333333333,\"#9c179e\"],[0.4444444444444444,\"#bd3786\"],[0.5555555555555556,\"#d8576b\"],[0.6666666666666666,\"#ed7953\"],[0.7777777777777778,\"#fb9f3a\"],[0.8888888888888888,\"#fdca26\"],[1.0,\"#f0f921\"]]},\"legend\":{\"tracegroupgap\":0},\"title\":{\"text\":\"Employee Salaries\"},\"barmode\":\"relative\"},                        {\"responsive\": true}                    ).then(function(){\n",
              "                            \n",
              "var gd = document.getElementById('06a888d3-a399-46c4-b0aa-433ff51b2e9e');\n",
              "var x = new MutationObserver(function (mutations, observer) {{\n",
              "        var display = window.getComputedStyle(gd).display;\n",
              "        if (!display || display === 'none') {{\n",
              "            console.log([gd, 'removed!']);\n",
              "            Plotly.purge(gd);\n",
              "            observer.disconnect();\n",
              "        }}\n",
              "}});\n",
              "\n",
              "// Listen for the removal of the full notebook cells\n",
              "var notebookContainer = gd.closest('#notebook-container');\n",
              "if (notebookContainer) {{\n",
              "    x.observe(notebookContainer, {childList: true});\n",
              "}}\n",
              "\n",
              "// Listen for the clearing of the current output cell\n",
              "var outputEl = gd.closest('.output');\n",
              "if (outputEl) {{\n",
              "    x.observe(outputEl, {childList: true});\n",
              "}}\n",
              "\n",
              "                        })                };                            </script>        </div>\n",
              "</body>\n",
              "</html>"
            ]
          },
          "metadata": {}
        }
      ]
    },
    {
      "cell_type": "code",
      "source": [
        "#6. Create a DataFrame and add a new column based on an existing column?\n",
        "import pandas as pd\n",
        "\n",
        "# Create a simple DataFrame\n",
        "data = {\n",
        "    'Name': ['Rahul', 'simran', 'sumit', 'Divya'],\n",
        "    'Salary': [50000, 60000, 55000, 70000]\n",
        "}\n",
        "df = pd.DataFrame(data)\n",
        "\n",
        "print(\"Original DataFrame:\")\n",
        "print(df)\n",
        "\n",
        "# Add a new column \"Bonus\" as 10% of \"Salary\"\n",
        "df['Bonus'] = df['Salary'] * 0.10\n",
        "\n",
        "# Add another new column \"Total\" = Salary + Bonus\n",
        "df['Total'] = df['Salary'] + df['Bonus']\n",
        "\n",
        "print(\"\\nDataFrame after adding new columns:\")\n",
        "print(df)\n"
      ],
      "metadata": {
        "id": "VZSetR_Dwc_Q",
        "colab": {
          "base_uri": "https://localhost:8080/"
        },
        "outputId": "69e0e716-9370-47a8-89f1-68da771a50c6"
      },
      "execution_count": null,
      "outputs": [
        {
          "output_type": "stream",
          "name": "stdout",
          "text": [
            "Original DataFrame:\n",
            "     Name  Salary\n",
            "0   Rahul   50000\n",
            "1  simran   60000\n",
            "2   sumit   55000\n",
            "3   Divya   70000\n",
            "\n",
            "DataFrame after adding new columns:\n",
            "     Name  Salary   Bonus    Total\n",
            "0   Rahul   50000  5000.0  55000.0\n",
            "1  simran   60000  6000.0  66000.0\n",
            "2   sumit   55000  5500.0  60500.0\n",
            "3   Divya   70000  7000.0  77000.0\n"
          ]
        }
      ]
    },
    {
      "cell_type": "code",
      "source": [
        "#7. Write a program to perform element-wise multiplication of two NumPy arrays?\n",
        "import numpy as np\n",
        "\n",
        "# Create two NumPy arrays\n",
        "arr1 = np.array([1, 2, 3, 4, 5])\n",
        "arr2 = np.array([10, 20, 30, 40, 50])\n",
        "\n",
        "print(\"Array 1:\", arr1)\n",
        "print(\"Array 2:\", arr2)\n",
        "\n",
        "# Element-wise multiplication using * operator\n",
        "result1 = arr1 * arr2\n",
        "\n",
        "# Element-wise multiplication using np.multiply()\n",
        "result2 = np.multiply(arr1, arr2)\n",
        "\n",
        "print(\"\\nResult using * operator:\", result1)\n",
        "print(\"Result using np.multiply():\", result2)\n"
      ],
      "metadata": {
        "id": "37hUAjhNwi6a",
        "colab": {
          "base_uri": "https://localhost:8080/"
        },
        "outputId": "fe5c3d65-bf0b-4831-dc51-438f98f9fc81"
      },
      "execution_count": null,
      "outputs": [
        {
          "output_type": "stream",
          "name": "stdout",
          "text": [
            "Array 1: [1 2 3 4 5]\n",
            "Array 2: [10 20 30 40 50]\n",
            "\n",
            "Result using * operator: [ 10  40  90 160 250]\n",
            "Result using np.multiply(): [ 10  40  90 160 250]\n"
          ]
        }
      ]
    },
    {
      "cell_type": "code",
      "source": [
        "#8. Create a line plot with multiple lines using Matplotlib?\n",
        "import matplotlib.pyplot as plt\n",
        "\n",
        "# Sample data\n",
        "x = [1, 2, 3, 4, 5]\n",
        "y1 = [2, 4, 6, 8, 10]      # Line 1\n",
        "y2 = [1, 2, 3, 4, 5]       # Line 2\n",
        "y3 = [2, 3, 5, 7, 11]      # Line 3\n",
        "\n",
        "# Plot multiple lines\n",
        "plt.plot(x, y1, label='Line 1 (y=2x)', marker='o')\n",
        "plt.plot(x, y2, label='Line 2 (y=x)', marker='s')\n",
        "plt.plot(x, y3, label='Line 3 (Prime numbers)', marker='^')\n",
        "\n",
        "# Add title and labels\n",
        "plt.title(\"Multiple Line Plot Example\")\n",
        "plt.xlabel(\"X-axis\")\n",
        "plt.ylabel(\"Y-axis\")\n",
        "\n",
        "# Show legend\n",
        "plt.legend()\n",
        "\n",
        "# Display the plot\n",
        "plt.show()\n"
      ],
      "metadata": {
        "id": "hsvOqw5QwvXB",
        "colab": {
          "base_uri": "https://localhost:8080/",
          "height": 472
        },
        "outputId": "0b8c44e1-12c6-43f2-92c4-6dbad83eac63"
      },
      "execution_count": null,
      "outputs": [
        {
          "output_type": "display_data",
          "data": {
            "text/plain": [
              "<Figure size 640x480 with 1 Axes>"
            ],
            "image/png": "[encoded data removed]"
          },
          "metadata": {}
        }
      ]
    },
    {
      "cell_type": "code",
      "source": [
        "#9. Generate a Pandas DataFrame and filter rows where a column value is greater than a threshold?\n",
        "import pandas as pd\n",
        "\n",
        "# Create a DataFrame\n",
        "data = {\n",
        "    'Name': ['Rahul', 'simran', 'sumit', 'David', 'Eshha'],\n",
        "    'Age': [25, 32, 29, 41, 22],\n",
        "    'Salary': [50000, 60000, 55000, 75000, 48000]\n",
        "}\n",
        "\n",
        "df = pd.DataFrame(data)\n",
        "print(\"Original DataFrame:\")\n",
        "print(df)\n",
        "\n",
        "# Filter rows where Salary > 55000\n",
        "threshold = 55000\n",
        "filtered_df = df[df['Salary'] > threshold]\n",
        "\n",
        "print(\"\\nFiltered DataFrame (Salary > 55000):\")\n",
        "print(filtered_df)\n"
      ],
      "metadata": {
        "id": "5YZO4LGIwztK",
        "colab": {
          "base_uri": "https://localhost:8080/"
        },
        "outputId": "b090a176-2c2e-4d42-ae3d-61b0cbfa1542"
      },
      "execution_count": null,
      "outputs": [
        {
          "output_type": "stream",
          "name": "stdout",
          "text": [
            "Original DataFrame:\n",
            "     Name  Age  Salary\n",
            "0   Rahul   25   50000\n",
            "1  simran   32   60000\n",
            "2   sumit   29   55000\n",
            "3   David   41   75000\n",
            "4   Eshha   22   48000\n",
            "\n",
            "Filtered DataFrame (Salary > 55000):\n",
            "     Name  Age  Salary\n",
            "1  simran   32   60000\n",
            "3   David   41   75000\n"
          ]
        }
      ]
    },
    {
      "cell_type": "code",
      "source": [
        "#10. Create a histogram using Seaborn to visualize a distribution?\n",
        "import seaborn as sns\n",
        "import matplotlib.pyplot as plt\n",
        "\n",
        "# Sample data\n",
        "data = [12, 15, 14, 10, 18, 20, 22, 21, 19, 25, 30, 28, 22, 18, 17, 16, 15, 14, 13, 19]\n",
        "\n",
        "# Create histogram\n",
        "sns.histplot(data, bins=8, kde=True, color='skyblue')\n",
        "\n",
        "# Add title and labels\n",
        "plt.title(\"Histogram of Sample Data with KDE\")\n",
        "plt.xlabel(\"Value\")\n",
        "plt.ylabel(\"Frequency\")\n",
        "\n",
        "# Show plot\n",
        "plt.show()\n"
      ],
      "metadata": {
        "id": "EKGkDa4wxHEs",
        "colab": {
          "base_uri": "https://localhost:8080/",
          "height": 472
        },
        "outputId": "ac7149cd-f9e9-4ee4-fd55-343138c62464"
      },
      "execution_count": null,
      "outputs": [
        {
          "output_type": "display_data",
          "data": {
            "text/plain": [
              "<Figure size 640x480 with 1 Axes>"
            ],
            "image/png": "[encoded data removed]"
          },
          "metadata": {}
        }
      ]
    },
    {
      "cell_type": "code",
      "source": [
        "#11. Perform matrix multiplication using NumPy?\n",
        "import numpy as np\n",
        "\n",
        "# Define two matrices\n",
        "A = np.array([[1, 2, 3],\n",
        "              [4, 5, 6]])\n",
        "\n",
        "B = np.array([[7, 8],\n",
        "              [9, 10],\n",
        "              [11, 12]])\n",
        "\n",
        "print(\"Matrix A:\\n\", A)\n",
        "print(\"\\nMatrix B:\\n\", B)\n",
        "\n",
        "# Method 1: Using np.dot()\n",
        "result1 = np.dot(A, B)\n",
        "\n",
        "# Method 2: Using @ operator (Python 3.5+)\n",
        "result2 = A @ B\n",
        "\n",
        "print(\"\\nResult using np.dot():\\n\", result1)\n",
        "print(\"\\nResult using @ operator:\\n\", result2)\n"
      ],
      "metadata": {
        "id": "C-7DdArQxO2V",
        "colab": {
          "base_uri": "https://localhost:8080/"
        },
        "outputId": "481fa151-fbbd-4ddd-8af5-5d910ddb830a"
      },
      "execution_count": null,
      "outputs": [
        {
          "output_type": "stream",
          "name": "stdout",
          "text": [
            "Matrix A:\n",
            " [[1 2 3]\n",
            " [4 5 6]]\n",
            "\n",
            "Matrix B:\n",
            " [[ 7  8]\n",
            " [ 9 10]\n",
            " [11 12]]\n",
            "\n",
            "Result using np.dot():\n",
            " [[ 58  64]\n",
            " [139 154]]\n",
            "\n",
            "Result using @ operator:\n",
            " [[ 58  64]\n",
            " [139 154]]\n"
          ]
        }
      ]
    },
    {
      "cell_type": "code",
      "source": [
        "#12. Use Pandas to load a CSV file and display its first 5 rows?\n",
        "import pandas as pd\n",
        "\n",
        "# Create a dictionary of data\n",
        "data = {\n",
        "    'ID': [1, 2, 3, 4, 5],\n",
        "    'Name': ['Alice', 'Bob', 'Charlie', 'David', 'Eva'],\n",
        "    'Age': [25, 30, 28, 35, 22],\n",
        "    'Salary': [50000, 60000, 55000, 70000, 48000]\n",
        "}\n",
        "\n",
        "# Convert dictionary to DataFrame\n",
        "df = pd.DataFrame(data)\n",
        "\n",
        "# Save DataFrame to CSV file\n",
        "df.to_csv(\"employees.csv\", index=False)  # index=False avoids row numbers\n",
        "\n",
        "print(\"CSV file 'employees.csv' created successfully!\")\n",
        "\n",
        "import pandas as pd\n",
        "\n",
        "# Load CSV file (replace 'data.csv' with your file path)\n",
        "df = pd.read_csv(\"employees.csv\")\n",
        "\n",
        "# Display the first 5 rows\n",
        "print(\"First 5 rows of the CSV file:\")\n",
        "print(df.head())\n"
      ],
      "metadata": {
        "id": "0M5AdCBFxYob",
        "colab": {
          "base_uri": "https://localhost:8080/"
        },
        "outputId": "e18102e1-4b85-490b-eb95-8bca8d280b75"
      },
      "execution_count": null,
      "outputs": [
        {
          "output_type": "stream",
          "name": "stdout",
          "text": [
            "CSV file 'employees.csv' created successfully!\n",
            "First 5 rows of the CSV file:\n",
            "   ID     Name  Age  Salary\n",
            "0   1    Alice   25   50000\n",
            "1   2      Bob   30   60000\n",
            "2   3  Charlie   28   55000\n",
            "3   4    David   35   70000\n",
            "4   5      Eva   22   48000\n"
          ]
        }
      ]
    },
    {
      "cell_type": "code",
      "source": [
        "#13.  Create a 3D scatter plot using Plotly.?\n",
        "import plotly.express as px\n",
        "import pandas as pd\n",
        "\n",
        "# Sample Data\n",
        "data = {\n",
        "    'X': [1, 2, 3, 4, 5, 6],\n",
        "    'Y': [10, 11, 12, 13, 14, 15],\n",
        "    'Z': [5, 6, 7, 8, 9, 10],\n",
        "    'Category': ['A', 'B', 'A', 'B', 'A', 'B']  # for coloring\n",
        "}\n",
        "\n",
        "df = pd.DataFrame(data)\n",
        "\n",
        "# Create 3D Scatter Plot\n",
        "fig = px.scatter_3d(df, x='X', y='Y', z='Z',\n",
        "                    color='Category',  # color points by category\n",
        "                    size_max=10,\n",
        "                    symbol='Category')\n",
        "\n",
        "# Show plot\n",
        "fig.show()\n"
      ],
      "metadata": {
        "id": "N7rLyMhCxY9w",
        "colab": {
          "base_uri": "https://localhost:8080/",
          "height": 542
        },
        "outputId": "55894471-388d-4e34-ba7a-10f25211ac4d"
      },
      "execution_count": null,
      "outputs": [
        {
          "output_type": "display_data",
          "data": {
            "text/html": [
              "<html>\n",
              "<head><meta charset=\"utf-8\" /></head>\n",
              "<body>\n",
              "    <div>            <script src=\"https://cdnjs.cloudflare.com/ajax/libs/mathjax/2.7.5/MathJax.js?config=TeX-AMS-MML_SVG\"></script><script type=\"text/javascript\">if (window.MathJax && window.MathJax.Hub && window.MathJax.Hub.Config) {window.MathJax.Hub.Config({SVG: {font: \"STIX-Web\"}});}</script>                <script type=\"text/javascript\">window.PlotlyConfig = {MathJaxConfig: 'local'};</script>\n",
              "        <script charset=\"utf-8\" src=\"https://cdn.plot.ly/plotly-2.35.2.min.js\"></script>                <div id=\"e5b66916-1d6a-4c36-90cb-1178e33b5d38\" class=\"plotly-graph-div\" style=\"height:525px; width:100%;\"></div>            <script type=\"text/javascript\">                                    window.PLOTLYENV=window.PLOTLYENV || {};                                    if (document.getElementById(\"e5b66916-1d6a-4c36-90cb-1178e33b5d38\")) {                    Plotly.newPlot(                        \"e5b66916-1d6a-4c36-90cb-1178e33b5d38\",                        [{\"hovertemplate\":\"Category=A\\u003cbr\\u003eX=%{x}\\u003cbr\\u003eY=%{y}\\u003cbr\\u003eZ=%{z}\\u003cextra\\u003e\\u003c\\u002fextra\\u003e\",\"legendgroup\":\"A\",\"marker\":{\"color\":\"#636efa\",\"symbol\":\"circle\"},\"mode\":\"markers\",\"name\":\"A\",\"scene\":\"scene\",\"showlegend\":true,\"x\":[1,3,5],\"y\":[10,12,14],\"z\":[5,7,9],\"type\":\"scatter3d\"},{\"hovertemplate\":\"Category=B\\u003cbr\\u003eX=%{x}\\u003cbr\\u003eY=%{y}\\u003cbr\\u003eZ=%{z}\\u003cextra\\u003e\\u003c\\u002fextra\\u003e\",\"legendgroup\":\"B\",\"marker\":{\"color\":\"#EF553B\",\"symbol\":\"diamond\"},\"mode\":\"markers\",\"name\":\"B\",\"scene\":\"scene\",\"showlegend\":true,\"x\":[2,4,6],\"y\":[11,13,15],\"z\":[6,8,10],\"type\":\"scatter3d\"}],                        {\"template\":{\"data\":{\"histogram2dcontour\":[{\"type\":\"histogram2dcontour\",\"colorbar\":{\"outlinewidth\":0,\"ticks\":\"\"},\"colorscale\":[[0.0,\"#0d0887\"],[0.1111111111111111,\"#46039f\"],[0.2222222222222222,\"#7201a8\"],[0.3333333333333333,\"#9c179e\"],[0.4444444444444444,\"#bd3786\"],[0.5555555555555556,\"#d8576b\"],[0.6666666666666666,\"#ed7953\"],[0.7777777777777778,\"#fb9f3a\"],[0.8888888888888888,\"#fdca26\"],[1.0,\"#f0f921\"]]}],\"choropleth\":[{\"type\":\"choropleth\",\"colorbar\":{\"outlinewidth\":0,\"ticks\":\"\"}}],\"histogram2d\":[{\"type\":\"histogram2d\",\"colorbar\":{\"outlinewidth\":0,\"ticks\":\"\"},\"colorscale\":[[0.0,\"#0d0887\"],[0.1111111111111111,\"#46039f\"],[0.2222222222222222,\"#7201a8\"],[0.3333333333333333,\"#9c179e\"],[0.4444444444444444,\"#bd3786\"],[0.5555555555555556,\"#d8576b\"],[0.6666666666666666,\"#ed7953\"],[0.7777777777777778,\"#fb9f3a\"],[0.8888888888888888,\"#fdca26\"],[1.0,\"#f0f921\"]]}],\"heatmap\":[{\"type\":\"heatmap\",\"colorbar\":{\"outlinewidth\":0,\"ticks\":\"\"},\"colorscale\":[[0.0,\"#0d0887\"],[0.1111111111111111,\"#46039f\"],[0.2222222222222222,\"#7201a8\"],[0.3333333333333333,\"#9c179e\"],[0.4444444444444444,\"#bd3786\"],[0.5555555555555556,\"#d8576b\"],[0.6666666666666666,\"#ed7953\"],[0.7777777777777778,\"#fb9f3a\"],[0.8888888888888888,\"#fdca26\"],[1.0,\"#f0f921\"]]}],\"heatmapgl\":[{\"type\":\"heatmapgl\",\"colorbar\":{\"outlinewidth\":0,\"ticks\":\"\"},\"colorscale\":[[0.0,\"#0d0887\"],[0.1111111111111111,\"#46039f\"],[0.2222222222222222,\"#7201a8\"],[0.3333333333333333,\"#9c179e\"],[0.4444444444444444,\"#bd3786\"],[0.5555555555555556,\"#d8576b\"],[0.6666666666666666,\"#ed7953\"],[0.7777777777777778,\"#fb9f3a\"],[0.8888888888888888,\"#fdca26\"],[1.0,\"#f0f921\"]]}],\"contourcarpet\":[{\"type\":\"contourcarpet\",\"colorbar\":{\"outlinewidth\":0,\"ticks\":\"\"}}],\"contour\":[{\"type\":\"contour\",\"colorbar\":{\"outlinewidth\":0,\"ticks\":\"\"},\"colorscale\":[[0.0,\"#0d0887\"],[0.1111111111111111,\"#46039f\"],[0.2222222222222222,\"#7201a8\"],[0.3333333333333333,\"#9c179e\"],[0.4444444444444444,\"#bd3786\"],[0.5555555555555556,\"#d8576b\"],[0.6666666666666666,\"#ed7953\"],[0.7777777777777778,\"#fb9f3a\"],[0.8888888888888888,\"#fdca26\"],[1.0,\"#f0f921\"]]}],\"surface\":[{\"type\":\"surface\",\"colorbar\":{\"outlinewidth\":0,\"ticks\":\"\"},\"colorscale\":[[0.0,\"#0d0887\"],[0.1111111111111111,\"#46039f\"],[0.2222222222222222,\"#7201a8\"],[0.3333333333333333,\"#9c179e\"],[0.4444444444444444,\"#bd3786\"],[0.5555555555555556,\"#d8576b\"],[0.6666666666666666,\"#ed7953\"],[0.7777777777777778,\"#fb9f3a\"],[0.8888888888888888,\"#fdca26\"],[1.0,\"#f0f921\"]]}],\"mesh3d\":[{\"type\":\"mesh3d\",\"colorbar\":{\"outlinewidth\":0,\"ticks\":\"\"}}],\"scatter\":[{\"fillpattern\":{\"fillmode\":\"overlay\",\"size\":10,\"solidity\":0.2},\"type\":\"scatter\"}],\"parcoords\":[{\"type\":\"parcoords\",\"line\":{\"colorbar\":{\"outlinewidth\":0,\"ticks\":\"\"}}}],\"scatterpolargl\":[{\"type\":\"scatterpolargl\",\"marker\":{\"colorbar\":{\"outlinewidth\":0,\"ticks\":\"\"}}}],\"bar\":[{\"error_x\":{\"color\":\"#2a3f5f\"},\"error_y\":{\"color\":\"#2a3f5f\"},\"marker\":{\"line\":{\"color\":\"#E5ECF6\",\"width\":0.5},\"pattern\":{\"fillmode\":\"overlay\",\"size\":10,\"solidity\":0.2}},\"type\":\"bar\"}],\"scattergeo\":[{\"type\":\"scattergeo\",\"marker\":{\"colorbar\":{\"outlinewidth\":0,\"ticks\":\"\"}}}],\"scatterpolar\":[{\"type\":\"scatterpolar\",\"marker\":{\"colorbar\":{\"outlinewidth\":0,\"ticks\":\"\"}}}],\"histogram\":[{\"marker\":{\"pattern\":{\"fillmode\":\"overlay\",\"size\":10,\"solidity\":0.2}},\"type\":\"histogram\"}],\"scattergl\":[{\"type\":\"scattergl\",\"marker\":{\"colorbar\":{\"outlinewidth\":0,\"ticks\":\"\"}}}],\"scatter3d\":[{\"type\":\"scatter3d\",\"line\":{\"colorbar\":{\"outlinewidth\":0,\"ticks\":\"\"}},\"marker\":{\"colorbar\":{\"outlinewidth\":0,\"ticks\":\"\"}}}],\"scattermapbox\":[{\"type\":\"scattermapbox\",\"marker\":{\"colorbar\":{\"outlinewidth\":0,\"ticks\":\"\"}}}],\"scatterternary\":[{\"type\":\"scatterternary\",\"marker\":{\"colorbar\":{\"outlinewidth\":0,\"ticks\":\"\"}}}],\"scattercarpet\":[{\"type\":\"scattercarpet\",\"marker\":{\"colorbar\":{\"outlinewidth\":0,\"ticks\":\"\"}}}],\"carpet\":[{\"aaxis\":{\"endlinecolor\":\"#2a3f5f\",\"gridcolor\":\"white\",\"linecolor\":\"white\",\"minorgridcolor\":\"white\",\"startlinecolor\":\"#2a3f5f\"},\"baxis\":{\"endlinecolor\":\"#2a3f5f\",\"gridcolor\":\"white\",\"linecolor\":\"white\",\"minorgridcolor\":\"white\",\"startlinecolor\":\"#2a3f5f\"},\"type\":\"carpet\"}],\"table\":[{\"cells\":{\"fill\":{\"color\":\"#EBF0F8\"},\"line\":{\"color\":\"white\"}},\"header\":{\"fill\":{\"color\":\"#C8D4E3\"},\"line\":{\"color\":\"white\"}},\"type\":\"table\"}],\"barpolar\":[{\"marker\":{\"line\":{\"color\":\"#E5ECF6\",\"width\":0.5},\"pattern\":{\"fillmode\":\"overlay\",\"size\":10,\"solidity\":0.2}},\"type\":\"barpolar\"}],\"pie\":[{\"automargin\":true,\"type\":\"pie\"}]},\"layout\":{\"autotypenumbers\":\"strict\",\"colorway\":[\"#636efa\",\"#EF553B\",\"#00cc96\",\"#ab63fa\",\"#FFA15A\",\"#19d3f3\",\"#FF6692\",\"#B6E880\",\"#FF97FF\",\"#FECB52\"],\"font\":{\"color\":\"#2a3f5f\"},\"hovermode\":\"closest\",\"hoverlabel\":{\"align\":\"left\"},\"paper_bgcolor\":\"white\",\"plot_bgcolor\":\"#E5ECF6\",\"polar\":{\"bgcolor\":\"#E5ECF6\",\"angularaxis\":{\"gridcolor\":\"white\",\"linecolor\":\"white\",\"ticks\":\"\"},\"radialaxis\":{\"gridcolor\":\"white\",\"linecolor\":\"white\",\"ticks\":\"\"}},\"ternary\":{\"bgcolor\":\"#E5ECF6\",\"aaxis\":{\"gridcolor\":\"white\",\"linecolor\":\"white\",\"ticks\":\"\"},\"baxis\":{\"gridcolor\":\"white\",\"linecolor\":\"white\",\"ticks\":\"\"},\"caxis\":{\"gridcolor\":\"white\",\"linecolor\":\"white\",\"ticks\":\"\"}},\"coloraxis\":{\"colorbar\":{\"outlinewidth\":0,\"ticks\":\"\"}},\"colorscale\":{\"sequential\":[[0.0,\"#0d0887\"],[0.1111111111111111,\"#46039f\"],[0.2222222222222222,\"#7201a8\"],[0.3333333333333333,\"#9c179e\"],[0.4444444444444444,\"#bd3786\"],[0.5555555555555556,\"#d8576b\"],[0.6666666666666666,\"#ed7953\"],[0.7777777777777778,\"#fb9f3a\"],[0.8888888888888888,\"#fdca26\"],[1.0,\"#f0f921\"]],\"sequentialminus\":[[0.0,\"#0d0887\"],[0.1111111111111111,\"#46039f\"],[0.2222222222222222,\"#7201a8\"],[0.3333333333333333,\"#9c179e\"],[0.4444444444444444,\"#bd3786\"],[0.5555555555555556,\"#d8576b\"],[0.6666666666666666,\"#ed7953\"],[0.7777777777777778,\"#fb9f3a\"],[0.8888888888888888,\"#fdca26\"],[1.0,\"#f0f921\"]],\"diverging\":[[0,\"#8e0152\"],[0.1,\"#c51b7d\"],[0.2,\"#de77ae\"],[0.3,\"#f1b6da\"],[0.4,\"#fde0ef\"],[0.5,\"#f7f7f7\"],[0.6,\"#e6f5d0\"],[0.7,\"#b8e186\"],[0.8,\"#7fbc41\"],[0.9,\"#4d9221\"],[1,\"#276419\"]]},\"xaxis\":{\"gridcolor\":\"white\",\"linecolor\":\"white\",\"ticks\":\"\",\"title\":{\"standoff\":15},\"zerolinecolor\":\"white\",\"automargin\":true,\"zerolinewidth\":2},\"yaxis\":{\"gridcolor\":\"white\",\"linecolor\":\"white\",\"ticks\":\"\",\"title\":{\"standoff\":15},\"zerolinecolor\":\"white\",\"automargin\":true,\"zerolinewidth\":2},\"scene\":{\"xaxis\":{\"backgroundcolor\":\"#E5ECF6\",\"gridcolor\":\"white\",\"linecolor\":\"white\",\"showbackground\":true,\"ticks\":\"\",\"zerolinecolor\":\"white\",\"gridwidth\":2},\"yaxis\":{\"backgroundcolor\":\"#E5ECF6\",\"gridcolor\":\"white\",\"linecolor\":\"white\",\"showbackground\":true,\"ticks\":\"\",\"zerolinecolor\":\"white\",\"gridwidth\":2},\"zaxis\":{\"backgroundcolor\":\"#E5ECF6\",\"gridcolor\":\"white\",\"linecolor\":\"white\",\"showbackground\":true,\"ticks\":\"\",\"zerolinecolor\":\"white\",\"gridwidth\":2}},\"shapedefaults\":{\"line\":{\"color\":\"#2a3f5f\"}},\"annotationdefaults\":{\"arrowcolor\":\"#2a3f5f\",\"arrowhead\":0,\"arrowwidth\":1},\"geo\":{\"bgcolor\":\"white\",\"landcolor\":\"#E5ECF6\",\"subunitcolor\":\"white\",\"showland\":true,\"showlakes\":true,\"lakecolor\":\"white\"},\"title\":{\"x\":0.05},\"mapbox\":{\"style\":\"light\"}}},\"scene\":{\"domain\":{\"x\":[0.0,1.0],\"y\":[0.0,1.0]},\"xaxis\":{\"title\":{\"text\":\"X\"}},\"yaxis\":{\"title\":{\"text\":\"Y\"}},\"zaxis\":{\"title\":{\"text\":\"Z\"}}},\"legend\":{\"title\":{\"text\":\"Category\"},\"tracegroupgap\":0},\"margin\":{\"t\":60}},                        {\"responsive\": true}                    ).then(function(){\n",
              "                            \n",
              "var gd = document.getElementById('e5b66916-1d6a-4c36-90cb-1178e33b5d38');\n",
              "var x = new MutationObserver(function (mutations, observer) {{\n",
              "        var display = window.getComputedStyle(gd).display;\n",
              "        if (!display || display === 'none') {{\n",
              "            console.log([gd, 'removed!']);\n",
              "            Plotly.purge(gd);\n",
              "            observer.disconnect();\n",
              "        }}\n",
              "}});\n",
              "\n",
              "// Listen for the removal of the full notebook cells\n",
              "var notebookContainer = gd.closest('#notebook-container');\n",
              "if (notebookContainer) {{\n",
              "    x.observe(notebookContainer, {childList: true});\n",
              "}}\n",
              "\n",
              "// Listen for the clearing of the current output cell\n",
              "var outputEl = gd.closest('.output');\n",
              "if (outputEl) {{\n",
              "    x.observe(outputEl, {childList: true});\n",
              "}}\n",
              "\n",
              "                        })                };                            </script>        </div>\n",
              "</body>\n",
              "</html>"
            ]
          },
          "metadata": {}
        }
      ]
    }
  ]
}